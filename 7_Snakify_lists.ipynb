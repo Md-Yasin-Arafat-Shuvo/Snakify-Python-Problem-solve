{
  "nbformat": 4,
  "nbformat_minor": 0,
  "metadata": {
    "colab": {
      "provenance": []
    },
    "kernelspec": {
      "name": "python3",
      "display_name": "Python 3"
    },
    "language_info": {
      "name": "python"
    }
  },
  "cells": [
    {
      "cell_type": "code",
      "execution_count": null,
      "metadata": {
        "colab": {
          "base_uri": "https://localhost:8080/"
        },
        "id": "1xMwbLdBvg9p",
        "outputId": "08d3efd3-f30c-4a36-903c-727ef46e36f7"
      },
      "outputs": [
        {
          "output_type": "stream",
          "name": "stdout",
          "text": [
            "1 2 3 4 5\n",
            "1\n",
            "3\n",
            "5\n"
          ]
        }
      ],
      "source": [
        "a = input().split()\n",
        "for i in range(0, len(a), 2):\n",
        "  print(a[i])"
      ]
    },
    {
      "cell_type": "code",
      "source": [
        "a = [int(i) for i in input().split()]\n",
        "for elem in a:\n",
        "  if elem % 2 == 0:\n",
        "    print(elem)"
      ],
      "metadata": {
        "colab": {
          "base_uri": "https://localhost:8080/"
        },
        "id": "kIXKxJRrwIHX",
        "outputId": "34cf2031-c610-400b-f81d-ea2b13428ebe"
      },
      "execution_count": null,
      "outputs": [
        {
          "output_type": "stream",
          "name": "stdout",
          "text": [
            "1 2 2 3 3 3 4\n",
            "2\n",
            "2\n",
            "4\n"
          ]
        }
      ]
    },
    {
      "cell_type": "code",
      "source": [
        "a = [int(i) for i in input().split()]\n",
        "for i in range(1, len(a)):\n",
        "  if a[i] > a[i - 1]:\n",
        "    print(a[i])"
      ],
      "metadata": {
        "colab": {
          "base_uri": "https://localhost:8080/"
        },
        "id": "jhmU-3NgwXft",
        "outputId": "d0c8aab8-73a8-4e40-9723-1cbd23683a46"
      },
      "execution_count": null,
      "outputs": [
        {
          "output_type": "stream",
          "name": "stdout",
          "text": [
            "1 5 2 4 3\n",
            "5\n",
            "4\n"
          ]
        }
      ]
    },
    {
      "cell_type": "code",
      "source": [
        "a = [int(i) for i in input().split()]\n",
        "for i in range(1, len(a)):\n",
        "  if a[i - 1] * a[i] > 0:\n",
        "    print(a[i - 1], a[i])\n",
        "    break\n"
      ],
      "metadata": {
        "colab": {
          "base_uri": "https://localhost:8080/"
        },
        "id": "jMv1pwdywh32",
        "outputId": "d2b016e8-228c-4b73-b273-dca131967d49"
      },
      "execution_count": null,
      "outputs": [
        {
          "output_type": "stream",
          "name": "stdout",
          "text": [
            "-1 2 3 -1 -2\n",
            "2 3\n"
          ]
        }
      ]
    },
    {
      "cell_type": "code",
      "source": [
        "a = [int(i) for i in input().split()]\n",
        "counter = 0\n",
        "for i in range(1, len(a) - 1):\n",
        "  if a[i - 1] < a[i] > a[i + 1]:\n",
        "    counter += 1\n",
        "print(counter)"
      ],
      "metadata": {
        "colab": {
          "base_uri": "https://localhost:8080/"
        },
        "id": "WKY9Cjb-wvJD",
        "outputId": "495e006d-bc0b-4be1-b093-9c468b16ce57"
      },
      "execution_count": null,
      "outputs": [
        {
          "output_type": "stream",
          "name": "stdout",
          "text": [
            "1 2 3 4 5\n",
            "0\n"
          ]
        }
      ]
    },
    {
      "cell_type": "code",
      "source": [
        "index_of_max = 0\n",
        "a = [int(i) for i in input().split()]\n",
        "for i in range(1, len(a)):\n",
        "  if a[i] > a[index_of_max]:\n",
        "    index_of_max = i\n",
        "print(a[index_of_max], index_of_max)"
      ],
      "metadata": {
        "colab": {
          "base_uri": "https://localhost:8080/"
        },
        "id": "y6czwrgKhqmA",
        "outputId": "669e5d4d-ffe7-4780-9014-84b52efd2658"
      },
      "execution_count": 2,
      "outputs": [
        {
          "output_type": "stream",
          "name": "stdout",
          "text": [
            "45 55\n",
            "55 1\n"
          ]
        }
      ]
    },
    {
      "cell_type": "code",
      "source": [
        "a = [int(i) for i in input().split()]\n",
        "num_distinct = 1\n",
        "for i in range(0, len(a) - 1):\n",
        "  if a[i] != a[i + 1]:\n",
        "    num_distinct += 1\n",
        "print(num_distinct)"
      ],
      "metadata": {
        "colab": {
          "base_uri": "https://localhost:8080/"
        },
        "id": "jdcNWrzYiGvU",
        "outputId": "a6b598e8-9978-4f9f-e0b0-3a68bd157ff1"
      },
      "execution_count": 3,
      "outputs": [
        {
          "output_type": "stream",
          "name": "stdout",
          "text": [
            "1 2 2 3 3 3\n",
            "3\n"
          ]
        }
      ]
    },
    {
      "cell_type": "code",
      "source": [
        "a = [int(i) for i in input().split()]\n",
        "for i in range(1, len(a), 2):\n",
        "  a[i - 1], a[i] = a[i], a[i - 1]\n",
        "print(' '.join([str(i) for i in a]))"
      ],
      "metadata": {
        "colab": {
          "base_uri": "https://localhost:8080/"
        },
        "id": "3KmJbd6IiUmo",
        "outputId": "f370bc3f-ecb9-47d1-ce6c-3e420137c09a"
      },
      "execution_count": 4,
      "outputs": [
        {
          "output_type": "stream",
          "name": "stdout",
          "text": [
            "1 2 3 4 5\n",
            "2 1 4 3 5\n"
          ]
        }
      ]
    },
    {
      "cell_type": "code",
      "source": [
        "a = [int(s) for s in input().split()]\n",
        "index_of_min = 0\n",
        "index_of_max = 0\n",
        "for i in range(1, len(a)):\n",
        "  if a[i] > a[index_of_max]:\n",
        "    index_of_max = i\n",
        "  if a[i] < a[index_of_min]:\n",
        "    index_of_min = i\n",
        "a[index_of_min], a[index_of_max] = a[index_of_max], a[index_of_min]\n",
        "print(' '.join([str(i) for i in a]))"
      ],
      "metadata": {
        "colab": {
          "base_uri": "https://localhost:8080/"
        },
        "id": "1Puhzxneigd2",
        "outputId": "e305aefa-47d0-4bc2-f899-53a969e9e96c"
      },
      "execution_count": 5,
      "outputs": [
        {
          "output_type": "stream",
          "name": "stdout",
          "text": [
            "3 4 5 2 1\n",
            "3 4 1 2 5\n"
          ]
        }
      ]
    },
    {
      "cell_type": "code",
      "source": [
        "a = [int(s) for s in input().split()]\n",
        "counter = 0\n",
        "for i in range(len(a)):\n",
        "  for j in range(i + 1, len(a)):\n",
        "    if a[i] == a[j]:\n",
        "      counter += 1\n",
        "print(counter)"
      ],
      "metadata": {
        "colab": {
          "base_uri": "https://localhost:8080/"
        },
        "id": "W12RSNGNiq1y",
        "outputId": "7c9afd29-9994-4b6c-863b-439dbfe940dc"
      },
      "execution_count": 6,
      "outputs": [
        {
          "output_type": "stream",
          "name": "stdout",
          "text": [
            "1 2 3 2 3\n",
            "2\n"
          ]
        }
      ]
    },
    {
      "cell_type": "code",
      "source": [
        "a = [int(s) for s in input().split()]\n",
        "\n",
        "for i in range(len(a)):\n",
        "    for j in range(len(a)):\n",
        "        if i != j and a[i] == a[j]:\n",
        "            break\n",
        "    else:\n",
        "        print(a[i], end=' ')\n"
      ],
      "metadata": {
        "colab": {
          "base_uri": "https://localhost:8080/"
        },
        "id": "VPkNAj_yi2_r",
        "outputId": "348a8997-5cbc-4ae2-8092-bf486510e7f6"
      },
      "execution_count": 25,
      "outputs": [
        {
          "output_type": "stream",
          "name": "stdout",
          "text": [
            "1 2 2\n",
            "1 "
          ]
        }
      ]
    },
    {
      "cell_type": "code",
      "source": [
        "n = 8\n",
        "x = []\n",
        "y = []\n",
        "for i in range(n):\n",
        "  new_x, new_y = [int(s) for s in input().split()]\n",
        "  x.append(new_x)\n",
        "  y.append(new_y)\n",
        "\n",
        "correct = True\n",
        "for i in range(n):\n",
        "  for j in range(i + 1, n):\n",
        "    if x[i] == x[j] or y[i] == y[j] or abs(x[i] - x[j]) == abs(y[i] - y[j]):\n",
        "      correct = False\n",
        "\n",
        "if correct:\n",
        "  print('NO')\n",
        "else:\n",
        "  print('YES')"
      ],
      "metadata": {
        "colab": {
          "base_uri": "https://localhost:8080/"
        },
        "id": "WCSx4ULlmAKH",
        "outputId": "a71f8e1b-7ecb-4ccb-88ae-c04477a536b6"
      },
      "execution_count": 27,
      "outputs": [
        {
          "output_type": "stream",
          "name": "stdout",
          "text": [
            "1 7\n",
            "2 4\n",
            "3 2\n",
            "4 8\n",
            "5 6\n",
            "6 1\n",
            "7 3\n",
            "8 5\n",
            "NO\n"
          ]
        }
      ]
    },
    {
      "cell_type": "code",
      "source": [
        "n, k = [int(s) for s in input().split()]\n",
        "bahn = ['I'] * n\n",
        "for i in range(k):\n",
        "  left, right = [int(s) for s in input().split()]\n",
        "  for j in range(left - 1, right):\n",
        "    bahn[j] = '.'\n",
        "print(''.join(bahn))"
      ],
      "metadata": {
        "colab": {
          "base_uri": "https://localhost:8080/"
        },
        "id": "Ka30iy5fmfob",
        "outputId": "e392d4ed-b773-4f50-d260-d8939bd952ac"
      },
      "execution_count": 28,
      "outputs": [
        {
          "output_type": "stream",
          "name": "stdout",
          "text": [
            "10 3\n",
            "8 10\n",
            "2 5\n",
            "3 6\n",
            "I.....I...\n"
          ]
        }
      ]
    }
  ]
}