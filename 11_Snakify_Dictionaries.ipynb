{
  "nbformat": 4,
  "nbformat_minor": 0,
  "metadata": {
    "colab": {
      "provenance": []
    },
    "kernelspec": {
      "name": "python3",
      "display_name": "Python 3"
    },
    "language_info": {
      "name": "python"
    }
  },
  "cells": [
    {
      "cell_type": "code",
      "execution_count": 1,
      "metadata": {
        "colab": {
          "base_uri": "https://localhost:8080/"
        },
        "id": "BzC9BXMh8ttX",
        "outputId": "d7f12ba2-0e58-472a-d10b-0db6e6628e33"
      },
      "outputs": [
        {
          "output_type": "stream",
          "name": "stdout",
          "text": [
            "one two one tho three\n",
            "0 0 1 0 0 "
          ]
        }
      ],
      "source": [
        "counter = {}\n",
        "for word in input().split():\n",
        "  counter[word] = counter.get(word, 0) + 1\n",
        "  print(counter[word] - 1, end=' ')"
      ]
    },
    {
      "cell_type": "code",
      "source": [
        "n = int(input())\n",
        "d = {}\n",
        "for i in range(n):\n",
        "  first, second = input().split()\n",
        "  d[first] = second\n",
        "  d[second] = first\n",
        "print(d[input()])"
      ],
      "metadata": {
        "colab": {
          "base_uri": "https://localhost:8080/"
        },
        "id": "waDum0g-9K8X",
        "outputId": "d45b4650-94ac-4a5e-b4f5-6d373d0d0ac5"
      },
      "execution_count": 2,
      "outputs": [
        {
          "output_type": "stream",
          "name": "stdout",
          "text": [
            "3\n",
            "hello hi\n",
            "bye goodbye\n",
            "list array\n",
            "goodbye\n",
            "bye\n"
          ]
        }
      ]
    },
    {
      "cell_type": "code",
      "source": [
        "num_votes = {}\n",
        "for _ in range(int(input())):\n",
        "  candidate, votes = input().split()\n",
        "  num_votes[candidate] = num_votes.get(candidate, 0) + int(votes)\n",
        "for candidate, votes in sorted(num_votes.items()):\n",
        "  print(candidate, votes)"
      ],
      "metadata": {
        "colab": {
          "base_uri": "https://localhost:8080/"
        },
        "id": "ZiqxTG679YXk",
        "outputId": "8f439fb5-32d9-4f44-9a18-fefd84d77b89"
      },
      "execution_count": 3,
      "outputs": [
        {
          "output_type": "stream",
          "name": "stdout",
          "text": [
            "5\n",
            "McCain 10\n",
            "McCain 5\n",
            "Obama 9\n",
            "Obama 8\n",
            "McCain 1\n",
            "McCain 16\n",
            "Obama 17\n"
          ]
        }
      ]
    },
    {
      "cell_type": "code",
      "source": [
        "counter = {}\n",
        "for i in range(int(input())):\n",
        "  line = input().split()\n",
        "  for word in line:\n",
        "    counter[word] = counter.get(word, 0) + 1\n",
        "max_count = max(counter.values())\n",
        "most_frequent = [k for k, v in counter.items() if v == max_count]\n",
        "print(min(most_frequent))"
      ],
      "metadata": {
        "colab": {
          "base_uri": "https://localhost:8080/"
        },
        "id": "Z8MrrZfM9oe1",
        "outputId": "4cc6ec59-0f05-42bd-a9ab-84d716d10a1e"
      },
      "execution_count": 4,
      "outputs": [
        {
          "output_type": "stream",
          "name": "stdout",
          "text": [
            "1\n",
            "apple orange banana banana orange\n",
            "banana\n"
          ]
        }
      ]
    },
    {
      "cell_type": "code",
      "source": [
        "OPERATION_PERMISSION = {\n",
        "  'read': 'R',\n",
        "  'write': 'W',\n",
        "  'execute': 'X',\n",
        "}\n",
        "file_permissions = {}\n",
        "for i in range(int(input())):\n",
        "  file, *permissions = input().split()\n",
        "  file_permissions[file] = set(permissions)\n",
        "for i in range(int(input())):\n",
        "  operation, file = input().split()\n",
        "  if OPERATION_PERMISSION[operation] in file_permissions[file]:\n",
        "    print('OK')\n",
        "  else:\n",
        "    print('Access denied')"
      ],
      "metadata": {
        "colab": {
          "base_uri": "https://localhost:8080/"
        },
        "id": "VklIiHVJ922h",
        "outputId": "072e8be6-2320-4854-b9d2-f947d600e451"
      },
      "execution_count": 5,
      "outputs": [
        {
          "output_type": "stream",
          "name": "stdout",
          "text": [
            "1\n",
            "abacaba X\n",
            "3\n",
            "read abacaba\n",
            "Accessdenied\n",
            "write abacaba\n",
            "Accessdenied\n",
            "execute abacaba\n",
            "OK\n"
          ]
        }
      ]
    },
    {
      "cell_type": "code",
      "source": [
        "motherland = {}\n",
        "for i in range(int(input())):\n",
        "  country, *cities = input().split()\n",
        "  for city in cities:\n",
        "    motherland[city] = country\n",
        "for i in range(int(input())):\n",
        "  print(motherland[input()])"
      ],
      "metadata": {
        "colab": {
          "base_uri": "https://localhost:8080/"
        },
        "id": "N1lZjFln-YIq",
        "outputId": "6af1e5c1-0487-4fd9-f2be-4aa1c806abcf"
      },
      "execution_count": 6,
      "outputs": [
        {
          "output_type": "stream",
          "name": "stdout",
          "text": [
            "2\n",
            "USA Boston Pittsburgh Washington Seattle\n",
            "UK London Edinburgh Cardiff Belfast\n",
            "3\n",
            "Cardiff\n",
            "UK\n",
            "Seattle\n",
            "USA\n",
            "London\n",
            "UK\n"
          ]
        }
      ]
    },
    {
      "cell_type": "code",
      "source": [
        "from collections import Counter\n",
        "words = []\n",
        "for _ in range(int(input())):\n",
        "  words.extend(input().split())\n",
        "counter = Counter(words)\n",
        "pairs = [(-pair[1], pair[0]) for pair in counter.most_common()]\n",
        "words = [pair[1] for pair in sorted(pairs)]\n",
        "print('\\n'.join(words))\n"
      ],
      "metadata": {
        "colab": {
          "base_uri": "https://localhost:8080/"
        },
        "id": "6g0wm2KV-ppH",
        "outputId": "7fec4234-3175-427f-af1c-b7a9704a5742"
      },
      "execution_count": 8,
      "outputs": [
        {
          "output_type": "stream",
          "name": "stdout",
          "text": [
            "1\n",
            "ai ai ai ai ai ai ai ai ai ai\n",
            "ai\n"
          ]
        }
      ]
    },
    {
      "cell_type": "code",
      "source": [
        "from collections import defaultdict\n",
        "latin_to_english = defaultdict(list)\n",
        "for i in range(int(input())):\n",
        "  english_word, latin_translations_chunk = input().split(' - ')\n",
        "  latin_translations = latin_translations_chunk.split(', ')\n",
        "  for latin_word in latin_translations:\n",
        "    latin_to_english[latin_word].append(english_word)\n",
        "print(len(latin_to_english))\n",
        "for latin_word, english_translations in sorted(latin_to_english.items()):\n",
        "  print(latin_word + ' - ' + ', '.join(english_translations))"
      ],
      "metadata": {
        "colab": {
          "base_uri": "https://localhost:8080/"
        },
        "id": "XW5lDQ1d_HoG",
        "outputId": "21b7f692-3681-4b06-ac6e-4142bab08474"
      },
      "execution_count": 10,
      "outputs": [
        {
          "output_type": "stream",
          "name": "stdout",
          "text": [
            "1\n",
            "school - schola\n",
            "1\n",
            "schola - school\n"
          ]
        }
      ]
    }
  ]
}