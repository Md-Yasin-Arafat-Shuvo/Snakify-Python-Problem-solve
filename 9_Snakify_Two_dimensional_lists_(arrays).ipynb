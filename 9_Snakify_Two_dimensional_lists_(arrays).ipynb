{
  "nbformat": 4,
  "nbformat_minor": 0,
  "metadata": {
    "colab": {
      "provenance": []
    },
    "kernelspec": {
      "name": "python3",
      "display_name": "Python 3"
    },
    "language_info": {
      "name": "python"
    }
  },
  "cells": [
    {
      "cell_type": "code",
      "execution_count": 2,
      "metadata": {
        "colab": {
          "base_uri": "https://localhost:8080/"
        },
        "id": "OSwbVsYepOEe",
        "outputId": "3e01ca3e-74c0-4f9d-ee27-8448df2985dd"
      },
      "outputs": [
        {
          "output_type": "stream",
          "name": "stdout",
          "text": [
            "3 4\n",
            "0 3 2 4\n",
            "2 3 5 5\n",
            "5 1 2 3\n",
            "1 2\n"
          ]
        }
      ],
      "source": [
        "n, m = [int(i) for i in input().split()]\n",
        "a = [[int(j) for j in input().split()] for i in range(n)]\n",
        "best_i, best_j = 0, 0\n",
        "curr_max = a[0][0]\n",
        "for i in range(n):\n",
        "  for j in range(m):\n",
        "    if a[i][j] > curr_max:\n",
        "      curr_max = a[i][j]\n",
        "      best_i, best_j = i, j\n",
        "print(best_i, best_j)"
      ]
    },
    {
      "cell_type": "code",
      "source": [
        "n = int(input())\n",
        "a = [['.'] * n for i in range(n)]\n",
        "for i in range(n):\n",
        "  a[i][i] = '*'\n",
        "  a[n // 2][i] = '*'\n",
        "  a[i][n // 2] = '*'\n",
        "  a[i][n - i - 1] = '*'\n",
        "for row in a:\n",
        "  print(' '.join(row))"
      ],
      "metadata": {
        "colab": {
          "base_uri": "https://localhost:8080/"
        },
        "id": "seBkCK9op3OW",
        "outputId": "02f09242-0164-4b55-c9c1-9f2808a6704a"
      },
      "execution_count": 3,
      "outputs": [
        {
          "output_type": "stream",
          "name": "stdout",
          "text": [
            "5\n",
            "* . * . *\n",
            ". * * * .\n",
            "* * * * *\n",
            ". * * * .\n",
            "* . * . *\n"
          ]
        }
      ]
    },
    {
      "cell_type": "code",
      "source": [
        "n, m = [int(i) for i in input().split()]\n",
        "a = []\n",
        "for i in range(n):\n",
        "  a.append([])\n",
        "  for j in range(m):\n",
        "    if (i + j) % 2 == 0:\n",
        "      a[i].append('.')\n",
        "    else:\n",
        "      a[i].append('*')\n",
        "for row in a:\n",
        "  print(' '.join(row))"
      ],
      "metadata": {
        "colab": {
          "base_uri": "https://localhost:8080/"
        },
        "id": "OclDIapRqACj",
        "outputId": "cbc4d078-29a0-4879-819c-b17791a7554f"
      },
      "execution_count": 4,
      "outputs": [
        {
          "output_type": "stream",
          "name": "stdout",
          "text": [
            "3 4\n",
            ". * . *\n",
            "* . * .\n",
            ". * . *\n"
          ]
        }
      ]
    },
    {
      "cell_type": "code",
      "source": [
        "n = int(input())\n",
        "a = [[abs(i - j) for j in range(n)] for i in range(n)]\n",
        "for row in a:\n",
        "  print(' '.join([str(i) for i in row]))"
      ],
      "metadata": {
        "colab": {
          "base_uri": "https://localhost:8080/"
        },
        "id": "R63xQvTvqT1m",
        "outputId": "3167cb39-1b02-4891-ea1a-e13ec1354cb9"
      },
      "execution_count": 5,
      "outputs": [
        {
          "output_type": "stream",
          "name": "stdout",
          "text": [
            "5\n",
            "0 1 2 3 4\n",
            "1 0 1 2 3\n",
            "2 1 0 1 2\n",
            "3 2 1 0 1\n",
            "4 3 2 1 0\n"
          ]
        }
      ]
    },
    {
      "cell_type": "code",
      "source": [
        "n = int(input())\n",
        "a = [[0] * n for i in range(n)]\n",
        "for i in range(n):\n",
        "  a[i][n - i - 1] = 1\n",
        "for i in range(n):\n",
        "  for j in range(n - i, n):\n",
        "    a[i][j] = 2\n",
        "for row in a:\n",
        "  for elem in row:\n",
        "    print(elem, end=' ')\n",
        "  print()"
      ],
      "metadata": {
        "colab": {
          "base_uri": "https://localhost:8080/"
        },
        "id": "ul_XvofuqafJ",
        "outputId": "c48fab63-a3aa-4802-d4e3-bff6bb9ebccf"
      },
      "execution_count": 6,
      "outputs": [
        {
          "output_type": "stream",
          "name": "stdout",
          "text": [
            "4\n",
            "0 0 0 1 \n",
            "0 0 1 2 \n",
            "0 1 2 2 \n",
            "1 2 2 2 \n"
          ]
        }
      ]
    },
    {
      "cell_type": "code",
      "source": [
        "def swap_columns(a, i, j):\n",
        "  for k in range(len(a)):\n",
        "    a[k][i], a[k][j] = a[k][j], a[k][i]\n",
        "\n",
        "n, m = [int(i) for i in input().split()]\n",
        "a = [[int(j) for j in input().split()] for i in range(n)]\n",
        "i, j = [int(i) for i in input().split()]\n",
        "swap_columns(a, i, j)\n",
        "print('\\n'.join([' '.join([str(i) for i in row]) for row in a]))"
      ],
      "metadata": {
        "colab": {
          "base_uri": "https://localhost:8080/"
        },
        "id": "6j3mKh6-qmg7",
        "outputId": "12f5edff-d463-4a8e-8a87-e4d6a9254642"
      },
      "execution_count": 7,
      "outputs": [
        {
          "output_type": "stream",
          "name": "stdout",
          "text": [
            "3 4\n",
            "11 12 13 14\n",
            "21 22 23 24\n",
            "31 32 33 34\n",
            "0 1\n",
            "12 11 13 14\n",
            "22 21 23 24\n",
            "32 31 33 34\n"
          ]
        }
      ]
    },
    {
      "cell_type": "code",
      "source": [
        "m, n = [int(k) for k in input().split()]\n",
        "A = [[int(k) for k in input().split()] for i in range(m)]\n",
        "c = int(input())\n",
        "\n",
        "for i in range(m):\n",
        "  for j in range(n):\n",
        "    A[i][j] *= c\n",
        "\n",
        "print('\\n'.join([' '.join([str(k) for k in row]) for row in A]))"
      ],
      "metadata": {
        "colab": {
          "base_uri": "https://localhost:8080/"
        },
        "id": "e2G5xIhRq0Nt",
        "outputId": "9c1b44d2-cd1f-4b2b-e49d-33b4613bb4c6"
      },
      "execution_count": 8,
      "outputs": [
        {
          "output_type": "stream",
          "name": "stdout",
          "text": [
            "3 4\n",
            "11 12 13 14\n",
            "21 22 23 24\n",
            "31 32 33 34\n",
            "2\n",
            "22 24 26 28\n",
            "42 44 46 48\n",
            "62 64 66 68\n"
          ]
        }
      ]
    },
    {
      "cell_type": "code",
      "source": [
        "m, n, r = [int(k) for k in input().split()]\n",
        "A = [[int(k) for k in input().split()] for i in range(m)]\n",
        "B = [[int(k) for k in input().split()] for j in range(n)]\n",
        "C = [[0]*r for i in range(m)]\n",
        "for i in range(m):\n",
        "  for k in range(r):\n",
        "    for j in range(n):\n",
        "      C[i][k] += A[i][j] * B[j][k]\n",
        "\n",
        "print('\\n'.join([' '.join([str(k) for k in row]) for row in C]))"
      ],
      "metadata": {
        "colab": {
          "base_uri": "https://localhost:8080/"
        },
        "id": "VUiKXKsgrAfZ",
        "outputId": "cb5598b4-e1a2-4785-e1bb-8f56c269e32e"
      },
      "execution_count": 9,
      "outputs": [
        {
          "output_type": "stream",
          "name": "stdout",
          "text": [
            "3 4 2\n",
            "0 1 2 3\n",
            "4 5 6 7\n",
            "8 9 10 11\n",
            "2 3\n",
            "0 4\n",
            "5 -1\n",
            "1 1\n",
            "13 5\n",
            "45 33\n",
            "77 61\n"
          ]
        }
      ]
    }
  ]
}