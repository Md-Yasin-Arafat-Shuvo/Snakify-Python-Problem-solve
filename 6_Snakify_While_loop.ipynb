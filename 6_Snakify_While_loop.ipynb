{
  "nbformat": 4,
  "nbformat_minor": 0,
  "metadata": {
    "colab": {
      "provenance": []
    },
    "kernelspec": {
      "name": "python3",
      "display_name": "Python 3"
    },
    "language_info": {
      "name": "python"
    }
  },
  "cells": [
    {
      "cell_type": "code",
      "metadata": {
        "colab": {
          "base_uri": "https://localhost:8080/"
        },
        "id": "Lkk7YxqLibvD",
        "outputId": "7214cc96-c653-4427-f820-4d7530ce9c6d"
      },
      "source": [
        "n = int(input())\n",
        "i = 1\n",
        "while i ** 2 <= n:\n",
        "  print(i ** 2)\n",
        "  i += 1\n"
      ],
      "execution_count": null,
      "outputs": [
        {
          "output_type": "stream",
          "name": "stdout",
          "text": [
            "50\n",
            "1\n",
            "4\n",
            "9\n",
            "16\n",
            "25\n",
            "36\n",
            "49\n"
          ]
        }
      ]
    },
    {
      "cell_type": "code",
      "metadata": {
        "colab": {
          "base_uri": "https://localhost:8080/"
        },
        "id": "Ok0EC7ZRjmvA",
        "outputId": "39da95bd-2925-42f8-d6d9-03e160972526"
      },
      "source": [
        "n = int(input())\n",
        "i = 2\n",
        "while n % i != 0:\n",
        "  i += 1\n",
        "print(i)"
      ],
      "execution_count": null,
      "outputs": [
        {
          "output_type": "stream",
          "name": "stdout",
          "text": [
            "15\n",
            "3\n"
          ]
        }
      ]
    },
    {
      "cell_type": "code",
      "metadata": {
        "colab": {
          "base_uri": "https://localhost:8080/"
        },
        "id": "l7il9FFf8tSU",
        "outputId": "c30de7a7-6871-47cb-85fc-830505cdba82"
      },
      "source": [
        "n = int(input())\n",
        "power2 = 2\n",
        "power1 = 1\n",
        "while power2 <= n:\n",
        "  power2 *= 2\n",
        "  power1 += 1\n",
        "print(power1 - 1, power2 // 2)\n"
      ],
      "execution_count": null,
      "outputs": [
        {
          "output_type": "stream",
          "name": "stdout",
          "text": [
            "50\n",
            "5 32\n"
          ]
        }
      ]
    },
    {
      "cell_type": "code",
      "metadata": {
        "colab": {
          "base_uri": "https://localhost:8080/"
        },
        "id": "qP3fSG_H9H7R",
        "outputId": "fa8c23d2-d6c4-4906-e3e4-34d7068ac59e"
      },
      "source": [
        "x = int(input())\n",
        "y = int(input())\n",
        "i = 1\n",
        "while x < y:\n",
        "  x *= 1.1\n",
        "  i += 1\n",
        "print(i)"
      ],
      "execution_count": null,
      "outputs": [
        {
          "output_type": "stream",
          "name": "stdout",
          "text": [
            "10\n",
            "20\n",
            "9\n"
          ]
        }
      ]
    },
    {
      "cell_type": "code",
      "metadata": {
        "colab": {
          "base_uri": "https://localhost:8080/"
        },
        "id": "7qQgMTSv9fnp",
        "outputId": "e7f48837-282f-4006-c741-54c72471711c"
      },
      "source": [
        "len = 0\n",
        "while int(input()) != 0:\n",
        "  len += 1\n",
        "print(len)\n"
      ],
      "execution_count": null,
      "outputs": [
        {
          "output_type": "stream",
          "name": "stdout",
          "text": [
            "1\n",
            "7\n",
            "9\n",
            "0\n",
            "3\n"
          ]
        }
      ]
    },
    {
      "cell_type": "code",
      "metadata": {
        "colab": {
          "base_uri": "https://localhost:8080/"
        },
        "id": "Pt0bHvXkJ656",
        "outputId": "cde4478b-7f3e-4a39-9bca-d84f07968d39"
      },
      "source": [
        "sum = 0\n",
        "element = int(input())\n",
        "while element != 0:\n",
        "  sum += element\n",
        "  element = int(input())\n",
        "print(sum)\n"
      ],
      "execution_count": null,
      "outputs": [
        {
          "output_type": "stream",
          "name": "stdout",
          "text": [
            "1\n",
            "7\n",
            "9\n",
            "0\n",
            "17\n"
          ]
        }
      ]
    },
    {
      "cell_type": "code",
      "metadata": {
        "colab": {
          "base_uri": "https://localhost:8080/"
        },
        "id": "fnIM1ZFkKjda",
        "outputId": "66658822-8b42-45d5-d8b0-128ecd734db0"
      },
      "source": [
        "element = int(input())\n",
        "len = 0\n",
        "sum = 0\n",
        "while element != 0:\n",
        "  sum += element\n",
        "  len += 1\n",
        "  element = int(input())\n",
        "print(sum / len)"
      ],
      "execution_count": null,
      "outputs": [
        {
          "output_type": "stream",
          "name": "stdout",
          "text": [
            "1\n",
            "7\n",
            "9\n",
            "0\n",
            "5.666666666666667\n"
          ]
        }
      ]
    },
    {
      "cell_type": "code",
      "source": [
        "max = 0\n",
        "element = -1\n",
        "while element != 0:\n",
        "  element = int(input())\n",
        "  if element > max:\n",
        "    max = element\n",
        "print(max)"
      ],
      "metadata": {
        "colab": {
          "base_uri": "https://localhost:8080/"
        },
        "id": "NNlqlQwosCIw",
        "outputId": "614bf45f-d2a9-4a73-a4a1-bc3f9964a6a4"
      },
      "execution_count": null,
      "outputs": [
        {
          "output_type": "stream",
          "name": "stdout",
          "text": [
            "1\n",
            "7\n",
            "9\n",
            "0\n",
            "9\n"
          ]
        }
      ]
    },
    {
      "cell_type": "code",
      "source": [
        "max = 0\n",
        "index_of_max = -1\n",
        "element = -1\n",
        "len = 1\n",
        "while element != 0:\n",
        "  element = int(input())\n",
        "  if element > max:\n",
        "    max = element\n",
        "    index_of_max = len\n",
        "  len += 1\n",
        "print(index_of_max)"
      ],
      "metadata": {
        "colab": {
          "base_uri": "https://localhost:8080/"
        },
        "id": "Ae7b4nB3sVaf",
        "outputId": "53139706-b057-4703-954a-19f8a7fb374e"
      },
      "execution_count": null,
      "outputs": [
        {
          "output_type": "stream",
          "name": "stdout",
          "text": [
            "1\n",
            "7\n",
            "9\n",
            "0\n",
            "3\n"
          ]
        }
      ]
    },
    {
      "cell_type": "code",
      "source": [
        "num_even = -1\n",
        "element = -1\n",
        "while element != 0:\n",
        "  element = int(input())\n",
        "  if element % 2 == 0:\n",
        "    num_even += 1\n",
        "print(num_even)"
      ],
      "metadata": {
        "colab": {
          "base_uri": "https://localhost:8080/"
        },
        "id": "hk9pjsQhshyZ",
        "outputId": "dd7c6217-4430-472a-9885-f687098c27da"
      },
      "execution_count": null,
      "outputs": [
        {
          "output_type": "stream",
          "name": "stdout",
          "text": [
            "2\n",
            "1\n",
            "4\n",
            "0\n",
            "2\n"
          ]
        }
      ]
    },
    {
      "cell_type": "code",
      "source": [
        "prev = int(input())\n",
        "answer = 0\n",
        "while prev != 0:\n",
        "  next = int(input())\n",
        "  if next != 0 and prev < next:\n",
        "    answer += 1\n",
        "  prev = next\n",
        "print(answer)"
      ],
      "metadata": {
        "colab": {
          "base_uri": "https://localhost:8080/"
        },
        "id": "pGAKxQJmssYP",
        "outputId": "877437fa-e476-41fc-985c-6e4225c547c9"
      },
      "execution_count": null,
      "outputs": [
        {
          "output_type": "stream",
          "name": "stdout",
          "text": [
            "1\n",
            "7\n",
            "9\n",
            "0\n",
            "2\n"
          ]
        }
      ]
    },
    {
      "cell_type": "code",
      "source": [
        "first_max = int(input())\n",
        "second_max = int(input())\n",
        "if first_max < second_max:\n",
        "  first_max, second_max = second_max, first_max\n",
        "element = int(input())\n",
        "while element != 0:\n",
        "  if element > first_max:\n",
        "    second_max, first_max = first_max, element\n",
        "  elif element > second_max:\n",
        "    second_max = element\n",
        "  element = int(input())\n",
        "print(second_max)"
      ],
      "metadata": {
        "colab": {
          "base_uri": "https://localhost:8080/"
        },
        "id": "lKr4lXOos-Vj",
        "outputId": "ceca9051-267d-4966-e454-53eaf72af08b"
      },
      "execution_count": null,
      "outputs": [
        {
          "output_type": "stream",
          "name": "stdout",
          "text": [
            "1\n",
            "7\n",
            "9\n",
            "0\n",
            "7\n"
          ]
        }
      ]
    },
    {
      "cell_type": "code",
      "source": [
        "maximum = 0\n",
        "num_maximal = 0\n",
        "element = -1\n",
        "while element != 0:\n",
        "  element = int(input())\n",
        "  if element > maximum:\n",
        "    maximum, num_maximal = element, 1\n",
        "  elif element == maximum:\n",
        "    num_maximal += 1\n",
        "print(num_maximal)"
      ],
      "metadata": {
        "colab": {
          "base_uri": "https://localhost:8080/"
        },
        "id": "zPrmhInjtNYZ",
        "outputId": "f54cdc8a-210b-4d91-e522-4ccfe730c317"
      },
      "execution_count": null,
      "outputs": [
        {
          "output_type": "stream",
          "name": "stdout",
          "text": [
            "1\n",
            "7\n",
            "9\n",
            "0\n",
            "1\n"
          ]
        }
      ]
    },
    {
      "cell_type": "code",
      "source": [
        "n = int(input())\n",
        "\n",
        "if n == 0:\n",
        "    print(0)\n",
        "else:\n",
        "    a, b = 0, 1\n",
        "    for i in range(2, n + 1):\n",
        "        a, b = b, a + b\n",
        "    print(b)\n",
        "\n"
      ],
      "metadata": {
        "colab": {
          "base_uri": "https://localhost:8080/"
        },
        "id": "vgyzxo-wtYP2",
        "outputId": "89c2cba4-e78a-4416-8b33-0006b384766b"
      },
      "execution_count": 1,
      "outputs": [
        {
          "output_type": "stream",
          "name": "stdout",
          "text": [
            "6\n",
            "8\n"
          ]
        }
      ]
    },
    {
      "cell_type": "code",
      "source": [
        "a = int(input())\n",
        "if a == 0:\n",
        "  print(0)\n",
        "else:\n",
        "  fib_prev, fib_next = 0, 1\n",
        "  n = 1\n",
        "  while fib_next <= a:\n",
        "    if fib_next == a:\n",
        "      print(n)\n",
        "      break\n",
        "    fib_prev, fib_next = fib_next, fib_prev + fib_next\n",
        "    n += 1\n",
        "  else:\n",
        "    print(-1)\n"
      ],
      "metadata": {
        "colab": {
          "base_uri": "https://localhost:8080/"
        },
        "id": "vKwxejKiuDQu",
        "outputId": "77e93413-98bd-4d8f-ece2-11f4885cf4d8"
      },
      "execution_count": null,
      "outputs": [
        {
          "output_type": "stream",
          "name": "stdout",
          "text": [
            "8\n",
            "6\n"
          ]
        }
      ]
    },
    {
      "cell_type": "code",
      "source": [
        "prev = -1\n",
        "curr_rep_len = 0\n",
        "max_rep_len = 0\n",
        "element = int(input())\n",
        "while element != 0:\n",
        "  if prev == element:\n",
        "    curr_rep_len += 1\n",
        "  else:\n",
        "    prev = element\n",
        "    max_rep_len = max (max_rep_len, curr_rep_len)\n",
        "    curr_rep_len = 1\n",
        "  element = int(input())\n",
        "max_rep_len = max(max_rep_len, curr_rep_len)\n",
        "print(max_rep_len)\n"
      ],
      "metadata": {
        "colab": {
          "base_uri": "https://localhost:8080/",
          "height": 252
        },
        "id": "45V5R-Bzuetj",
        "outputId": "821db3c0-5802-482c-e0e1-0e37ee6eead4"
      },
      "execution_count": null,
      "outputs": [
        {
          "name": "stdout",
          "output_type": "stream",
          "text": [
            "4\n"
          ]
        },
        {
          "output_type": "error",
          "ename": "TypeError",
          "evalue": "ignored",
          "traceback": [
            "\u001b[0;31m---------------------------------------------------------------------------\u001b[0m",
            "\u001b[0;31mTypeError\u001b[0m                                 Traceback (most recent call last)",
            "\u001b[0;32m<ipython-input-14-4ff2516e7cc3>\u001b[0m in \u001b[0;36m<module>\u001b[0;34m()\u001b[0m\n\u001b[1;32m      8\u001b[0m   \u001b[0;32melse\u001b[0m\u001b[0;34m:\u001b[0m\u001b[0;34m\u001b[0m\u001b[0;34m\u001b[0m\u001b[0m\n\u001b[1;32m      9\u001b[0m     \u001b[0mprev\u001b[0m \u001b[0;34m=\u001b[0m \u001b[0melement\u001b[0m\u001b[0;34m\u001b[0m\u001b[0;34m\u001b[0m\u001b[0m\n\u001b[0;32m---> 10\u001b[0;31m     \u001b[0mmax_rep_len\u001b[0m \u001b[0;34m=\u001b[0m \u001b[0mmax\u001b[0m \u001b[0;34m(\u001b[0m\u001b[0mmax_rep_len\u001b[0m\u001b[0;34m,\u001b[0m \u001b[0mcurr_rep_len\u001b[0m\u001b[0;34m)\u001b[0m\u001b[0;34m\u001b[0m\u001b[0;34m\u001b[0m\u001b[0m\n\u001b[0m\u001b[1;32m     11\u001b[0m     \u001b[0mcurr_rep_len\u001b[0m \u001b[0;34m=\u001b[0m \u001b[0;36m1\u001b[0m\u001b[0;34m\u001b[0m\u001b[0;34m\u001b[0m\u001b[0m\n\u001b[1;32m     12\u001b[0m   \u001b[0melement\u001b[0m \u001b[0;34m=\u001b[0m \u001b[0mint\u001b[0m\u001b[0;34m(\u001b[0m\u001b[0minput\u001b[0m\u001b[0;34m(\u001b[0m\u001b[0;34m)\u001b[0m\u001b[0;34m)\u001b[0m\u001b[0;34m\u001b[0m\u001b[0;34m\u001b[0m\u001b[0m\n",
            "\u001b[0;31mTypeError\u001b[0m: 'int' object is not callable"
          ]
        }
      ]
    }
  ]
}