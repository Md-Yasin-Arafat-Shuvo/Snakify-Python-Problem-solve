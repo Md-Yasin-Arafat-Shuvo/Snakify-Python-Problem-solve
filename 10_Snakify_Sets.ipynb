{
  "nbformat": 4,
  "nbformat_minor": 0,
  "metadata": {
    "colab": {
      "provenance": []
    },
    "kernelspec": {
      "name": "python3",
      "display_name": "Python 3"
    },
    "language_info": {
      "name": "python"
    }
  },
  "cells": [
    {
      "cell_type": "code",
      "execution_count": 1,
      "metadata": {
        "colab": {
          "base_uri": "https://localhost:8080/"
        },
        "id": "wxC9StU10aCi",
        "outputId": "7590183b-53d1-49b0-a56d-bad0b6797237"
      },
      "outputs": [
        {
          "output_type": "stream",
          "name": "stdout",
          "text": [
            "1 2 3 2 1\n",
            "3\n"
          ]
        }
      ],
      "source": [
        "print(len(set(input().split())))"
      ]
    },
    {
      "cell_type": "code",
      "source": [
        "print(len(set(input().split()) & set(input().split())))"
      ],
      "metadata": {
        "colab": {
          "base_uri": "https://localhost:8080/"
        },
        "id": "F2KEsXu80xDM",
        "outputId": "982387d6-2443-4444-86d9-462f87e34a03"
      },
      "execution_count": 2,
      "outputs": [
        {
          "output_type": "stream",
          "name": "stdout",
          "text": [
            "1 3 2\n",
            "4 3 2\n",
            "2\n"
          ]
        }
      ]
    },
    {
      "cell_type": "code",
      "source": [
        "print(*sorted(set(input().split()) & set(input().split()), key=int))"
      ],
      "metadata": {
        "colab": {
          "base_uri": "https://localhost:8080/"
        },
        "id": "amv8RTae04qi",
        "outputId": "20129bbf-648e-4269-ae93-e229aa2ff11b"
      },
      "execution_count": 3,
      "outputs": [
        {
          "output_type": "stream",
          "name": "stdout",
          "text": [
            "1 3 2\n",
            "4 3 2\n",
            "2 3\n"
          ]
        }
      ]
    },
    {
      "cell_type": "code",
      "source": [
        "numbers = [int(s) for s in input().split()]\n",
        "occur_before = set()\n",
        "for num in numbers:\n",
        "  if num in occur_before:\n",
        "    print('YES')\n",
        "  else:\n",
        "    print('NO')\n",
        "    occur_before.add(num)"
      ],
      "metadata": {
        "colab": {
          "base_uri": "https://localhost:8080/"
        },
        "id": "2cGeHVLe1Bcr",
        "outputId": "25ea5f5e-1425-44c6-b796-2c299c8b50a5"
      },
      "execution_count": 4,
      "outputs": [
        {
          "output_type": "stream",
          "name": "stdout",
          "text": [
            "1 2 3 2 3 4\n",
            "NO\n",
            "NO\n",
            "NO\n",
            "YES\n",
            "YES\n",
            "NO\n"
          ]
        }
      ]
    },
    {
      "cell_type": "code",
      "source": [
        "def print_set(some_set):\n",
        "  print(len(some_set))\n",
        "  print(*[str(item) for item in sorted(some_set)])\n",
        "N, M = [int(s) for s in input().split()]\n",
        "A_colors, B_colors = set(), set()\n",
        "for i in range(N):\n",
        "  A_colors.add(int(input()))\n",
        "for i in range(M):\n",
        "  B_colors.add(int(input()))\n",
        "print_set(A_colors & B_colors)\n",
        "print_set(A_colors - B_colors)\n",
        "print_set(B_colors - A_colors)"
      ],
      "metadata": {
        "colab": {
          "base_uri": "https://localhost:8080/"
        },
        "id": "77hOk_Y01Pmm",
        "outputId": "a669a482-6bb8-43b4-80f7-684f87470876"
      },
      "execution_count": 5,
      "outputs": [
        {
          "output_type": "stream",
          "name": "stdout",
          "text": [
            "4 3\n",
            "0\n",
            "1\n",
            "10\n",
            "9\n",
            "1\n",
            "3\n",
            "0\n",
            "2\n",
            "0 1\n",
            "2\n",
            "9 10\n",
            "1\n",
            "3\n"
          ]
        }
      ]
    },
    {
      "cell_type": "code",
      "source": [
        "words = set()\n",
        "for _ in range(int(input())):\n",
        "  words.update(input().split())\n",
        "print(len(words))"
      ],
      "metadata": {
        "colab": {
          "base_uri": "https://localhost:8080/"
        },
        "id": "LuOnNIBe1dWH",
        "outputId": "c4c5a8eb-e40e-419b-bac5-d52d5d50ef56"
      },
      "execution_count": 6,
      "outputs": [
        {
          "output_type": "stream",
          "name": "stdout",
          "text": [
            "4\n",
            "She sells sea shells on the sea shore;\n",
            "The shells that she sells are sea shells I'm sure.\n",
            "So if she sells sea shells on the sea shore,\n",
            "I'm sure that the shells are sea shore shells.\n",
            "19\n"
          ]
        }
      ]
    },
    {
      "cell_type": "code",
      "source": [
        "n = int(input())\n",
        "all_nums = set(range(1, n + 1))\n",
        "possible_nums = all_nums\n",
        "while True:\n",
        "  guess = input()\n",
        "  if guess == 'HELP':\n",
        "    break\n",
        "  guess = {int(x) for x in guess.split()}\n",
        "  answer = input()\n",
        "  if answer == 'YES':\n",
        "    possible_nums &= guess\n",
        "  else:\n",
        "    possible_nums &= all_nums - guess\n",
        "print(' '.join([str(x) for x in sorted(possible_nums)]))"
      ],
      "metadata": {
        "colab": {
          "base_uri": "https://localhost:8080/"
        },
        "id": "ixQRf_0Q1r4l",
        "outputId": "df61df77-84da-48c1-fa19-5fad2e63518f"
      },
      "execution_count": 8,
      "outputs": [
        {
          "output_type": "stream",
          "name": "stdout",
          "text": [
            "10\n",
            "1 2 3 4 5\n",
            "YES\n",
            "2 4 6 8 10\n",
            "NO\n",
            "HELP\n",
            "1 3 5\n"
          ]
        }
      ]
    },
    {
      "cell_type": "code",
      "source": [
        "students = [{input() for j in range(int(input()))} for i in range(int(input()))]\n",
        "known_by_everyone, known_by_someone = set.intersection(*students), set.union(*students)\n",
        "print(len(known_by_everyone), *sorted(known_by_everyone), sep='\\n')\n",
        "print(len(known_by_someone), *sorted(known_by_someone), sep='\\n')"
      ],
      "metadata": {
        "colab": {
          "base_uri": "https://localhost:8080/"
        },
        "id": "hzjKlk4k2HI5",
        "outputId": "41655cad-0167-4731-ca85-750a63305bd5"
      },
      "execution_count": 9,
      "outputs": [
        {
          "output_type": "stream",
          "name": "stdout",
          "text": [
            "5\n",
            "1\n",
            "German\n",
            "1\n",
            "German\n",
            "1\n",
            "German\n",
            "1\n",
            "German\n",
            "1\n",
            "German\n",
            "1\n",
            "German\n",
            "1\n",
            "German\n"
          ]
        }
      ]
    }
  ]
}